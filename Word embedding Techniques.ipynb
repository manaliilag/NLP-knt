{
 "cells": [
  {
   "cell_type": "code",
   "execution_count": 1,
   "id": "62a1473a",
   "metadata": {},
   "outputs": [],
   "source": [
    "# !pip install tensorflow-gpu"
   ]
  },
  {
   "cell_type": "code",
   "execution_count": 2,
   "id": "6da808f3",
   "metadata": {},
   "outputs": [],
   "source": [
    "# !pip install tensorflow"
   ]
  },
  {
   "cell_type": "code",
   "execution_count": 1,
   "id": "5eff2f56",
   "metadata": {},
   "outputs": [
    {
     "name": "stdout",
     "output_type": "stream",
     "text": [
      "2.17.0\n"
     ]
    }
   ],
   "source": [
    "import tensorflow as tf\n",
    "print(tf.__version__)"
   ]
  },
  {
   "cell_type": "code",
   "execution_count": 2,
   "id": "32299d8f",
   "metadata": {},
   "outputs": [
    {
     "data": {
      "text/plain": [
       "'3.11.7 | packaged by Anaconda, Inc. | (main, Dec 15 2023, 18:05:47) [MSC v.1916 64 bit (AMD64)]'"
      ]
     },
     "execution_count": 2,
     "metadata": {},
     "output_type": "execute_result"
    }
   ],
   "source": [
    "import sys\n",
    "sys.version"
   ]
  },
  {
   "cell_type": "code",
   "execution_count": 3,
   "id": "2446474c",
   "metadata": {},
   "outputs": [],
   "source": [
    "from tensorflow.keras.preprocessing.text import one_hot"
   ]
  },
  {
   "cell_type": "code",
   "execution_count": 6,
   "id": "ab63669d",
   "metadata": {},
   "outputs": [],
   "source": [
    "### sentences\n",
    "sent=[  'the glass of milk',\n",
    "     'the glass of juice',\n",
    "     'the cup of tea',\n",
    "    'I am a good boy',\n",
    "     'I am a good developer',\n",
    "     'understand the meaning of words',\n",
    "     'your videos are good']"
   ]
  },
  {
   "cell_type": "code",
   "execution_count": 4,
   "id": "05f647bd",
   "metadata": {},
   "outputs": [],
   "source": [
    "# sent=[\"The world is a better place\",\n",
    "#       \"Marvel series is my favourite movie\",\n",
    "#       \"I like DC movies\",\n",
    "#       \"the cat is eating the food\",\n",
    "#       \"Tom and Jerry is my favourite movie\",\n",
    "#       \"Python is my favourite programming language\"\n",
    "#       ]"
   ]
  },
  {
   "cell_type": "code",
   "execution_count": 5,
   "id": "8cab6215",
   "metadata": {},
   "outputs": [
    {
     "data": {
      "text/plain": [
       "['The world is a better place',\n",
       " 'Marvel series is my favourite movie',\n",
       " 'I like DC movies',\n",
       " 'the cat is eating the food',\n",
       " 'Tom and Jerry is my favourite movie',\n",
       " 'Python is my favourite programming language']"
      ]
     },
     "execution_count": 5,
     "metadata": {},
     "output_type": "execute_result"
    }
   ],
   "source": [
    "sent"
   ]
  },
  {
   "cell_type": "code",
   "execution_count": 6,
   "id": "d0b7b07f",
   "metadata": {},
   "outputs": [],
   "source": [
    "# EXPLAINATION\n",
    "# OHE\n",
    "# POST PADDING PRE PADDING\n",
    "# OHE VALUES ---> VECTORS"
   ]
  },
  {
   "cell_type": "code",
   "execution_count": 7,
   "id": "0af42a61",
   "metadata": {},
   "outputs": [],
   "source": [
    "# vocabulary_size is number of unique words\n",
    "# whenver we have own dataset we use this Embedding Layer in Keras"
   ]
  },
  {
   "cell_type": "markdown",
   "id": "2a95c948",
   "metadata": {},
   "source": [
    "### Word embedding Techniques using Embedding Layer in Keras"
   ]
  },
  {
   "cell_type": "code",
   "execution_count": 8,
   "id": "d86e13f3",
   "metadata": {},
   "outputs": [],
   "source": [
    "# Vocabulary size initalization\n",
    "voc_size = 500"
   ]
  },
  {
   "cell_type": "markdown",
   "id": "2758e9e4",
   "metadata": {},
   "source": [
    "### ONE HOT REPRESENTATION"
   ]
  },
  {
   "cell_type": "code",
   "execution_count": 9,
   "id": "39929795",
   "metadata": {},
   "outputs": [],
   "source": [
    "onehot_repr = [one_hot(words, voc_size) for words in sent] "
   ]
  },
  {
   "cell_type": "code",
   "execution_count": 10,
   "id": "62a96a85",
   "metadata": {},
   "outputs": [
    {
     "data": {
      "text/plain": [
       "[[417, 466, 296, 33, 175, 15],\n",
       " [162, 249, 296, 180, 47, 216],\n",
       " [455, 341, 490, 346],\n",
       " [417, 381, 296, 13, 417, 390],\n",
       " [354, 202, 94, 296, 180, 47, 216],\n",
       " [49, 296, 180, 47, 342, 295]]"
      ]
     },
     "execution_count": 10,
     "metadata": {},
     "output_type": "execute_result"
    }
   ],
   "source": [
    "onehot_repr # not will be same every time it have random in it"
   ]
  },
  {
   "cell_type": "markdown",
   "id": "63d72ff9",
   "metadata": {},
   "source": [
    "### WORD EMBEDDING REPRESENTAION   "
   ]
  },
  {
   "cell_type": "code",
   "execution_count": 11,
   "id": "924d5ba3",
   "metadata": {},
   "outputs": [],
   "source": [
    "from tensorflow.keras.layers import Embedding\n",
    "from tensorflow.keras.preprocessing.sequence import pad_sequences\n",
    "from tensorflow.keras.models import Sequential\n",
    "import numpy as np"
   ]
  },
  {
   "cell_type": "code",
   "execution_count": 12,
   "id": "ea21b93f",
   "metadata": {},
   "outputs": [
    {
     "name": "stdout",
     "output_type": "stream",
     "text": [
      "[[  0   0 417 466 296  33 175  15]\n",
      " [  0   0 162 249 296 180  47 216]\n",
      " [  0   0   0   0 455 341 490 346]\n",
      " [  0   0 417 381 296  13 417 390]\n",
      " [  0 354 202  94 296 180  47 216]\n",
      " [  0   0  49 296 180  47 342 295]]\n"
     ]
    }
   ],
   "source": [
    "# Lets consider one Maximum Sentence Length\n",
    "sent_length = 8\n",
    "embedded_docs = pad_sequences(onehot_repr, padding='pre', maxlen=sent_length)\n",
    "print(embedded_docs)"
   ]
  },
  {
   "cell_type": "code",
   "execution_count": 13,
   "id": "09c32f4f",
   "metadata": {},
   "outputs": [],
   "source": [
    "dim=10"
   ]
  },
  {
   "cell_type": "code",
   "execution_count": 14,
   "id": "94f1b544",
   "metadata": {},
   "outputs": [],
   "source": [
    "model = Sequential()\n",
    "model.add(Embedding(input_dim=voc_size, output_dim=dim))\n",
    "model.compile('adam', 'mse')"
   ]
  },
  {
   "cell_type": "code",
   "execution_count": 18,
   "id": "6b32ff5d",
   "metadata": {},
   "outputs": [
    {
     "data": {
      "text/html": [
       "<pre style=\"white-space:pre;overflow-x:auto;line-height:normal;font-family:Menlo,'DejaVu Sans Mono',consolas,'Courier New',monospace\"><span style=\"font-weight: bold\">Model: \"sequential\"</span>\n",
       "</pre>\n"
      ],
      "text/plain": [
       "\u001b[1mModel: \"sequential\"\u001b[0m\n"
      ]
     },
     "metadata": {},
     "output_type": "display_data"
    },
    {
     "data": {
      "text/html": [
       "<pre style=\"white-space:pre;overflow-x:auto;line-height:normal;font-family:Menlo,'DejaVu Sans Mono',consolas,'Courier New',monospace\">┏━━━━━━━━━━━━━━━━━━━━━━━━━━━━━━━━━━━━━━┳━━━━━━━━━━━━━━━━━━━━━━━━━━━━━┳━━━━━━━━━━━━━━━━━┓\n",
       "┃<span style=\"font-weight: bold\"> Layer (type)                         </span>┃<span style=\"font-weight: bold\"> Output Shape                </span>┃<span style=\"font-weight: bold\">         Param # </span>┃\n",
       "┡━━━━━━━━━━━━━━━━━━━━━━━━━━━━━━━━━━━━━━╇━━━━━━━━━━━━━━━━━━━━━━━━━━━━━╇━━━━━━━━━━━━━━━━━┩\n",
       "│ embedding (<span style=\"color: #0087ff; text-decoration-color: #0087ff\">Embedding</span>)                │ (<span style=\"color: #00af00; text-decoration-color: #00af00\">8</span>, <span style=\"color: #00af00; text-decoration-color: #00af00\">10</span>)                     │           <span style=\"color: #00af00; text-decoration-color: #00af00\">5,000</span> │\n",
       "└──────────────────────────────────────┴─────────────────────────────┴─────────────────┘\n",
       "</pre>\n"
      ],
      "text/plain": [
       "┏━━━━━━━━━━━━━━━━━━━━━━━━━━━━━━━━━━━━━━┳━━━━━━━━━━━━━━━━━━━━━━━━━━━━━┳━━━━━━━━━━━━━━━━━┓\n",
       "┃\u001b[1m \u001b[0m\u001b[1mLayer (type)                        \u001b[0m\u001b[1m \u001b[0m┃\u001b[1m \u001b[0m\u001b[1mOutput Shape               \u001b[0m\u001b[1m \u001b[0m┃\u001b[1m \u001b[0m\u001b[1m        Param #\u001b[0m\u001b[1m \u001b[0m┃\n",
       "┡━━━━━━━━━━━━━━━━━━━━━━━━━━━━━━━━━━━━━━╇━━━━━━━━━━━━━━━━━━━━━━━━━━━━━╇━━━━━━━━━━━━━━━━━┩\n",
       "│ embedding (\u001b[38;5;33mEmbedding\u001b[0m)                │ (\u001b[38;5;34m8\u001b[0m, \u001b[38;5;34m10\u001b[0m)                     │           \u001b[38;5;34m5,000\u001b[0m │\n",
       "└──────────────────────────────────────┴─────────────────────────────┴─────────────────┘\n"
      ]
     },
     "metadata": {},
     "output_type": "display_data"
    },
    {
     "data": {
      "text/html": [
       "<pre style=\"white-space:pre;overflow-x:auto;line-height:normal;font-family:Menlo,'DejaVu Sans Mono',consolas,'Courier New',monospace\"><span style=\"font-weight: bold\"> Total params: </span><span style=\"color: #00af00; text-decoration-color: #00af00\">5,000</span> (19.53 KB)\n",
       "</pre>\n"
      ],
      "text/plain": [
       "\u001b[1m Total params: \u001b[0m\u001b[38;5;34m5,000\u001b[0m (19.53 KB)\n"
      ]
     },
     "metadata": {},
     "output_type": "display_data"
    },
    {
     "data": {
      "text/html": [
       "<pre style=\"white-space:pre;overflow-x:auto;line-height:normal;font-family:Menlo,'DejaVu Sans Mono',consolas,'Courier New',monospace\"><span style=\"font-weight: bold\"> Trainable params: </span><span style=\"color: #00af00; text-decoration-color: #00af00\">5,000</span> (19.53 KB)\n",
       "</pre>\n"
      ],
      "text/plain": [
       "\u001b[1m Trainable params: \u001b[0m\u001b[38;5;34m5,000\u001b[0m (19.53 KB)\n"
      ]
     },
     "metadata": {},
     "output_type": "display_data"
    },
    {
     "data": {
      "text/html": [
       "<pre style=\"white-space:pre;overflow-x:auto;line-height:normal;font-family:Menlo,'DejaVu Sans Mono',consolas,'Courier New',monospace\"><span style=\"font-weight: bold\"> Non-trainable params: </span><span style=\"color: #00af00; text-decoration-color: #00af00\">0</span> (0.00 B)\n",
       "</pre>\n"
      ],
      "text/plain": [
       "\u001b[1m Non-trainable params: \u001b[0m\u001b[38;5;34m0\u001b[0m (0.00 B)\n"
      ]
     },
     "metadata": {},
     "output_type": "display_data"
    }
   ],
   "source": [
    "model.summary()"
   ]
  },
  {
   "cell_type": "code",
   "execution_count": 16,
   "id": "ac2ce4db",
   "metadata": {},
   "outputs": [
    {
     "name": "stdout",
     "output_type": "stream",
     "text": [
      "\u001b[1m1/1\u001b[0m \u001b[32m━━━━━━━━━━━━━━━━━━━━\u001b[0m\u001b[37m\u001b[0m \u001b[1m0s\u001b[0m 189ms/step\n"
     ]
    },
    {
     "data": {
      "text/plain": [
       "array([[ 0.04285867,  0.00925612,  0.01598505, -0.01058301,  0.03027937,\n",
       "         0.02582505,  0.04273916, -0.03642325,  0.02733247,  0.01260656],\n",
       "       [ 0.04285867,  0.00925612,  0.01598505, -0.01058301,  0.03027937,\n",
       "         0.02582505,  0.04273916, -0.03642325,  0.02733247,  0.01260656],\n",
       "       [ 0.00425667,  0.02762396, -0.00969989, -0.0348698 , -0.00783216,\n",
       "        -0.04112983, -0.00830963,  0.00749739, -0.0098892 ,  0.03736261],\n",
       "       [-0.04328538, -0.01554513, -0.03302746,  0.00966571,  0.04175602,\n",
       "         0.00644735,  0.04347763, -0.03880932, -0.03097094,  0.04848111],\n",
       "       [ 0.02840691, -0.04481025, -0.00501569,  0.02738574, -0.01628323,\n",
       "         0.03070983, -0.00152204, -0.04114615, -0.04591835, -0.04860867],\n",
       "       [ 0.00157609, -0.04037306,  0.00600576,  0.03933607, -0.00360916,\n",
       "         0.03250777,  0.01070497,  0.02455137,  0.00990443, -0.03859419],\n",
       "       [ 0.03983149, -0.02495962,  0.02413727, -0.03548385, -0.00381137,\n",
       "        -0.04466876,  0.01777891, -0.00750484,  0.04767488, -0.03896642],\n",
       "       [ 0.03222427,  0.0197322 , -0.01149223, -0.04255993, -0.01407435,\n",
       "         0.01117085,  0.04237056,  0.0070679 , -0.0023288 ,  0.00016572]],\n",
       "      dtype=float32)"
      ]
     },
     "execution_count": 16,
     "metadata": {},
     "output_type": "execute_result"
    }
   ],
   "source": [
    "model.predict(embedded_docs[0])"
   ]
  },
  {
   "cell_type": "code",
   "execution_count": 17,
   "id": "d801977c",
   "metadata": {},
   "outputs": [
    {
     "name": "stdout",
     "output_type": "stream",
     "text": [
      "\u001b[1m1/1\u001b[0m \u001b[32m━━━━━━━━━━━━━━━━━━━━\u001b[0m\u001b[37m\u001b[0m \u001b[1m0s\u001b[0m 18ms/step\n"
     ]
    },
    {
     "data": {
      "text/plain": [
       "array([[ 0.04285867,  0.00925612,  0.01598505, -0.01058301,  0.03027937,\n",
       "         0.02582505,  0.04273916, -0.03642325,  0.02733247,  0.01260656],\n",
       "       [ 0.04285867,  0.00925612,  0.01598505, -0.01058301,  0.03027937,\n",
       "         0.02582505,  0.04273916, -0.03642325,  0.02733247,  0.01260656],\n",
       "       [-0.03384376,  0.04458382, -0.00177169,  0.01744387, -0.00302179,\n",
       "         0.01257623,  0.04152847,  0.0113103 , -0.0117344 ,  0.02845714],\n",
       "       [ 0.04513801, -0.03031981,  0.04564871, -0.0415571 , -0.02654739,\n",
       "         0.04366568,  0.02891612,  0.02747469,  0.00842751,  0.01486189],\n",
       "       [ 0.02840691, -0.04481025, -0.00501569,  0.02738574, -0.01628323,\n",
       "         0.03070983, -0.00152204, -0.04114615, -0.04591835, -0.04860867],\n",
       "       [ 0.03697034, -0.02048377, -0.03751479,  0.02140107, -0.0460794 ,\n",
       "        -0.02802284,  0.00866877, -0.03148234,  0.0421576 ,  0.04284965],\n",
       "       [-0.02651519, -0.01984692,  0.02246623, -0.01401882, -0.01847253,\n",
       "         0.04600798,  0.01337272, -0.03909208,  0.04435278, -0.00032052],\n",
       "       [ 0.01133662, -0.00416864, -0.0223107 ,  0.03663452, -0.00694333,\n",
       "        -0.03887482, -0.00436425, -0.01133828, -0.02499161,  0.03946562]],\n",
       "      dtype=float32)"
      ]
     },
     "execution_count": 17,
     "metadata": {},
     "output_type": "execute_result"
    }
   ],
   "source": [
    "model.predict(embedded_docs[1])"
   ]
  },
  {
   "cell_type": "code",
   "execution_count": 21,
   "id": "137ea1ff",
   "metadata": {},
   "outputs": [],
   "source": [
    "# print(model.predict(embedded_docs))"
   ]
  },
  {
   "cell_type": "code",
   "execution_count": null,
   "id": "8761e377",
   "metadata": {},
   "outputs": [],
   "source": [
    "### Assignment\n",
    "\n",
    "sent=[\"The world is a better place\",\n",
    "      \"Marvel series is my favourite movie\",\n",
    "      \"I like DC movies\",\n",
    "      \"the cat is eating the food\",\n",
    "      \"Tom and Jerry is my favourite movie\",\n",
    "      \"Python is my favourite programming language\"\n",
    "      ]"
   ]
  }
 ],
 "metadata": {
  "kernelspec": {
   "display_name": "Python 3 (ipykernel)",
   "language": "python",
   "name": "python3"
  },
  "language_info": {
   "codemirror_mode": {
    "name": "ipython",
    "version": 3
   },
   "file_extension": ".py",
   "mimetype": "text/x-python",
   "name": "python",
   "nbconvert_exporter": "python",
   "pygments_lexer": "ipython3",
   "version": "3.11.7"
  }
 },
 "nbformat": 4,
 "nbformat_minor": 5
}

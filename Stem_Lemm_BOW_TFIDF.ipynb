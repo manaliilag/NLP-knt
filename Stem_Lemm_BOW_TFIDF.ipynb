{
 "cells": [
  {
   "cell_type": "code",
   "execution_count": 1,
   "id": "ef1e6e90",
   "metadata": {},
   "outputs": [],
   "source": [
    "# # installing nltk package\n",
    "\n",
    "# !pip install nltk"
   ]
  },
  {
   "cell_type": "code",
   "execution_count": 2,
   "id": "a1f083bc",
   "metadata": {},
   "outputs": [],
   "source": [
    "# para on which we perform test preprocessing\n",
    "\n",
    "paragraph = \"Narendra Damodardas Modi[a] (born 17 September 1950)[b] is an Indian politician who is serving as the Prime Minister of India since 26 May 2014. Modi was the chief minister of Gujarat from 2001 to 2014 and is the member of parliament (MP) for Varanasi. He is a member of the Bharatiya Janata Party (BJP) and of the Rashtriya Swayamsevak Sangh (RSS), a right-wing Hindu nationalist paramilitary volunteer organisation. He is the longest-serving prime minister outside the Indian National Congress\""
   ]
  },
  {
   "cell_type": "code",
   "execution_count": 3,
   "id": "f58624b2",
   "metadata": {},
   "outputs": [],
   "source": [
    "# importing required packages\n",
    "\n",
    "import nltk\n",
    "from nltk.stem import PorterStemmer # for steamming\n",
    "from nltk.stem import WordNetLemmatizer # for lemmetizer\n",
    "from nltk.corpus import stopwords # used to remove not required word"
   ]
  },
  {
   "cell_type": "code",
   "execution_count": 4,
   "id": "24dc4d06",
   "metadata": {},
   "outputs": [
    {
     "name": "stderr",
     "output_type": "stream",
     "text": [
      "[nltk_data] Downloading package punkt to\n",
      "[nltk_data]     C:\\Users\\manal\\AppData\\Roaming\\nltk_data...\n",
      "[nltk_data]   Package punkt is already up-to-date!\n",
      "[nltk_data] Downloading package wordnet to\n",
      "[nltk_data]     C:\\Users\\manal\\AppData\\Roaming\\nltk_data...\n",
      "[nltk_data]   Package wordnet is already up-to-date!\n"
     ]
    },
    {
     "data": {
      "text/plain": [
       "True"
      ]
     },
     "execution_count": 4,
     "metadata": {},
     "output_type": "execute_result"
    }
   ],
   "source": [
    "# nltk.download() # will doonload all the packges\n",
    "\n",
    "nltk.download('punkt') # Download the required data for sentence tokenization\n",
    "nltk.download('wordnet') # Download the required data for lemmitizer"
   ]
  },
  {
   "cell_type": "code",
   "execution_count": 5,
   "id": "f0ccca99",
   "metadata": {},
   "outputs": [
    {
     "name": "stdout",
     "output_type": "stream",
     "text": [
      "['Narendra Damodardas Modi[a] (born 17 September 1950)[b] is an Indian politician who is serving as the Prime Minister of India since 26 May 2014.', 'Modi was the chief minister of Gujarat from 2001 to 2014 and is the member of parliament (MP) for Varanasi.', 'He is a member of the Bharatiya Janata Party (BJP) and of the Rashtriya Swayamsevak Sangh (RSS), a right-wing Hindu nationalist paramilitary volunteer organisation.', 'He is the longest-serving prime minister outside the Indian National Congress']\n"
     ]
    }
   ],
   "source": [
    "# tokenization ==>> converts # para --> # sent --> # words\n",
    "\n",
    "sentences = nltk.sent_tokenize(paragraph)\n",
    "print(sentences)"
   ]
  },
  {
   "cell_type": "code",
   "execution_count": 6,
   "id": "3f478274",
   "metadata": {},
   "outputs": [
    {
     "name": "stdout",
     "output_type": "stream",
     "text": [
      "go\n",
      "rock\n",
      "histor\n",
      "walk\n",
      "better\n",
      "swim\n"
     ]
    }
   ],
   "source": [
    "# some example how stemming works\n",
    "\n",
    "stemmer=PorterStemmer()\n",
    "print(stemmer.stem('going'))\n",
    "print(stemmer.stem('rocks'))\n",
    "print(stemmer.stem('historical'))\n",
    "print(stemmer.stem('walked'))\n",
    "print(stemmer.stem('better'))\n",
    "print(stemmer.stem('swimming'))"
   ]
  },
  {
   "cell_type": "code",
   "execution_count": 7,
   "id": "5920f4ac",
   "metadata": {},
   "outputs": [
    {
     "name": "stdout",
     "output_type": "stream",
     "text": [
      "go\n",
      "rock\n",
      "historical\n",
      "walk\n",
      "better\n",
      "swim\n"
     ]
    }
   ],
   "source": [
    "# some example how lemmatizer works\n",
    "\n",
    "lemmatizer = WordNetLemmatizer()\n",
    "print(lemmatizer.lemmatize('going', pos='v'))\n",
    "print(lemmatizer.lemmatize('rocks', pos='v'))\n",
    "print(lemmatizer.lemmatize('historical', pos='v'))\n",
    "print(lemmatizer.lemmatize('walked', pos='v'))\n",
    "print(lemmatizer.lemmatize('better', pos='v'))\n",
    "print(lemmatizer.lemmatize('swimming', pos='v'))"
   ]
  },
  {
   "cell_type": "code",
   "execution_count": 8,
   "id": "7b3a1f1b",
   "metadata": {},
   "outputs": [
    {
     "name": "stdout",
     "output_type": "stream",
     "text": [
      "[]\n"
     ]
    }
   ],
   "source": [
    "import re  # importing regular expresions\n",
    "corpus=[]  # empty list to append new list\n",
    "\n",
    "\n",
    "# looping in the range all the sentences\n",
    "for i in range(len(sentences)):\n",
    "    review = re.sub('[^a-zA-Z]',' ',sentences[i]) # removing special char other than a,A to z,Z\n",
    "    review = review.lower()\n",
    "#     review = review.split() # spliting each word in list for stem or lemm\n",
    "#     review = [lemmatizer.lemmatize(word) for word in review if not word in set(stopwords.words('english'))]\n",
    "#     review = ' '.join(review)\n",
    "#     corpus.append(review)\n",
    "print(corpus)"
   ]
  },
  {
   "cell_type": "code",
   "execution_count": 9,
   "id": "36e9142d",
   "metadata": {},
   "outputs": [],
   "source": [
    "# stemming\n",
    "for i in corpus:\n",
    "    words = nltk.word_tokenize(i)\n",
    "#     print(words)\n",
    "    stem_sentance = [stemmer.stem(word) for word in words if not word in set(stopwords.words('english'))]\n",
    "    print(stem_sentance)\n",
    "    \n"
   ]
  },
  {
   "cell_type": "code",
   "execution_count": 10,
   "id": "f606463f",
   "metadata": {},
   "outputs": [],
   "source": [
    "# lemmatizing\n",
    "for i in corpus:\n",
    "    words = nltk.word_tokenize(i)\n",
    "    print(words)\n",
    "    lem_sentance = [lemmatizer.lemmatize(word) for word in words if not word in set(stopwords.words('english'))]\n",
    "    print(lem_sentance)\n",
    "    \n"
   ]
  },
  {
   "cell_type": "code",
   "execution_count": 11,
   "id": "5c400820",
   "metadata": {},
   "outputs": [
    {
     "name": "stdout",
     "output_type": "stream",
     "text": [
      "['narendra damodardas modi born september b indian politician serving prime minister india since may', 'modi chief minister gujarat member parliament mp varanasi', 'member bharatiya janata party bjp rashtriya swayamsevak sangh r right wing hindu nationalist paramilitary volunteer organisation', 'longest serving prime minister outside indian national congress']\n"
     ]
    }
   ],
   "source": [
    "import re  # importing regular expresions\n",
    "corpus=[]  # empty list to append new list\n",
    "\n",
    "\n",
    "# looping in the range all the sentences\n",
    "for i in range(len(sentences)):\n",
    "    review = re.sub('[^a-zA-Z]',' ',sentences[i]) # removing special char other than a,A to z,Z\n",
    "    review = review.lower()\n",
    "    review = review.split()\n",
    "    review = [lemmatizer.lemmatize(word) for word in review if not word in set(stopwords.words('english'))]\n",
    "    review = ' '.join(review)\n",
    "    corpus.append(review)\n",
    "print(corpus)"
   ]
  },
  {
   "cell_type": "code",
   "execution_count": 12,
   "id": "c31cb1d4",
   "metadata": {},
   "outputs": [],
   "source": [
    "### Bag Of Words\n",
    "from sklearn.feature_extraction.text import CountVectorizer\n",
    "# cv = CountVectorizer()\n",
    "cv = CountVectorizer(binary=True, ngram_range=(2,3))"
   ]
  },
  {
   "cell_type": "code",
   "execution_count": 13,
   "id": "2a1d4138",
   "metadata": {},
   "outputs": [],
   "source": [
    "X=cv.fit_transform(corpus)"
   ]
  },
  {
   "cell_type": "code",
   "execution_count": 14,
   "id": "b41e1f16",
   "metadata": {},
   "outputs": [
    {
     "data": {
      "text/plain": [
       "{'narendra damodardas': 39,\n",
       " 'damodardas modi': 8,\n",
       " 'modi born': 34,\n",
       " 'born september': 4,\n",
       " 'september indian': 63,\n",
       " 'indian politician': 18,\n",
       " 'politician serving': 52,\n",
       " 'serving prime': 65,\n",
       " 'prime minister': 54,\n",
       " 'minister india': 30,\n",
       " 'india since': 14,\n",
       " 'since may': 67,\n",
       " 'narendra damodardas modi': 40,\n",
       " 'damodardas modi born': 9,\n",
       " 'modi born september': 35,\n",
       " 'born september indian': 5,\n",
       " 'september indian politician': 64,\n",
       " 'indian politician serving': 19,\n",
       " 'politician serving prime': 53,\n",
       " 'serving prime minister': 66,\n",
       " 'prime minister india': 55,\n",
       " 'minister india since': 31,\n",
       " 'india since may': 15,\n",
       " 'modi chief': 36,\n",
       " 'chief minister': 6,\n",
       " 'minister gujarat': 28,\n",
       " 'gujarat member': 10,\n",
       " 'member parliament': 26,\n",
       " 'parliament mp': 48,\n",
       " 'mp varanasi': 38,\n",
       " 'modi chief minister': 37,\n",
       " 'chief minister gujarat': 7,\n",
       " 'minister gujarat member': 29,\n",
       " 'gujarat member parliament': 11,\n",
       " 'member parliament mp': 27,\n",
       " 'parliament mp varanasi': 49,\n",
       " 'member bharatiya': 24,\n",
       " 'bharatiya janata': 0,\n",
       " 'janata party': 20,\n",
       " 'party bjp': 50,\n",
       " 'bjp rashtriya': 2,\n",
       " 'rashtriya swayamsevak': 57,\n",
       " 'swayamsevak sangh': 68,\n",
       " 'sangh right': 61,\n",
       " 'right wing': 59,\n",
       " 'wing hindu': 71,\n",
       " 'hindu nationalist': 12,\n",
       " 'nationalist paramilitary': 42,\n",
       " 'paramilitary volunteer': 46,\n",
       " 'volunteer organisation': 70,\n",
       " 'member bharatiya janata': 25,\n",
       " 'bharatiya janata party': 1,\n",
       " 'janata party bjp': 21,\n",
       " 'party bjp rashtriya': 51,\n",
       " 'bjp rashtriya swayamsevak': 3,\n",
       " 'rashtriya swayamsevak sangh': 58,\n",
       " 'swayamsevak sangh right': 69,\n",
       " 'sangh right wing': 62,\n",
       " 'right wing hindu': 60,\n",
       " 'wing hindu nationalist': 72,\n",
       " 'hindu nationalist paramilitary': 13,\n",
       " 'nationalist paramilitary volunteer': 43,\n",
       " 'paramilitary volunteer organisation': 47,\n",
       " 'longest serving': 22,\n",
       " 'minister outside': 32,\n",
       " 'outside indian': 44,\n",
       " 'indian national': 16,\n",
       " 'national congress': 41,\n",
       " 'longest serving prime': 23,\n",
       " 'prime minister outside': 56,\n",
       " 'minister outside indian': 33,\n",
       " 'outside indian national': 45,\n",
       " 'indian national congress': 17}"
      ]
     },
     "execution_count": 14,
     "metadata": {},
     "output_type": "execute_result"
    }
   ],
   "source": [
    "cv.vocabulary_"
   ]
  },
  {
   "cell_type": "code",
   "execution_count": 15,
   "id": "ba76c7aa",
   "metadata": {},
   "outputs": [
    {
     "data": {
      "text/plain": [
       "'narendra damodardas modi born september b indian politician serving prime minister india since may'"
      ]
     },
     "execution_count": 15,
     "metadata": {},
     "output_type": "execute_result"
    }
   ],
   "source": [
    "corpus[0]"
   ]
  },
  {
   "cell_type": "code",
   "execution_count": 16,
   "id": "52aa7280",
   "metadata": {},
   "outputs": [
    {
     "data": {
      "text/plain": [
       "array([[0, 0, 0, 0, 0, 0, 1, 1, 0, 0, 1, 1, 0, 0, 0, 0, 0, 0, 0, 0, 0, 0,\n",
       "        0, 0, 0, 0, 1, 1, 1, 1, 0, 0, 0, 0, 0, 0, 1, 1, 1, 0, 0, 0, 0, 0,\n",
       "        0, 0, 0, 0, 1, 1, 0, 0, 0, 0, 0, 0, 0, 0, 0, 0, 0, 0, 0, 0, 0, 0,\n",
       "        0, 0, 0, 0, 0, 0, 0]], dtype=int64)"
      ]
     },
     "execution_count": 16,
     "metadata": {},
     "output_type": "execute_result"
    }
   ],
   "source": [
    "X[0].toarray()\n",
    "X[1].toarray()"
   ]
  },
  {
   "cell_type": "code",
   "execution_count": 17,
   "id": "a3e5675e",
   "metadata": {},
   "outputs": [],
   "source": [
    "# in bag of words completly opposite sentances cosin simillarity will be high \n",
    "# so its not able to find out difference in sentiments of sentences\n",
    "\n",
    "# to overcome this we use TF-IDF\n",
    "# Term Frequency , Inverse Documnet Frequency\n",
    "\n",
    "# more weight to rare word in sentences"
   ]
  },
  {
   "cell_type": "code",
   "execution_count": 18,
   "id": "edd958fb",
   "metadata": {},
   "outputs": [
    {
     "name": "stdout",
     "output_type": "stream",
     "text": [
      "narendra damodardas modi born september b indian politician serving prime minister india since may\n"
     ]
    }
   ],
   "source": [
    "# TF-IDF\n",
    "\n",
    "from sklearn.feature_extraction.text import TfidfVectorizer\n",
    "# (max feture ) is for to give top 3 vectors ,( n garms) will cluster that many fo words together\n",
    "cvv = TfidfVectorizer(ngram_range=(3,3), max_features=3) \n",
    "X = cvv.fit_transform(corpus)\n",
    "print(corpus[0])"
   ]
  },
  {
   "cell_type": "code",
   "execution_count": 19,
   "id": "ffde90c0",
   "metadata": {},
   "outputs": [
    {
     "data": {
      "text/plain": [
       "array([[0.       , 0.       , 0.3068352, 0.       , 0.3068352, 0.       ,\n",
       "        0.       , 0.3068352, 0.       , 0.3068352, 0.       , 0.       ,\n",
       "        0.       , 0.       , 0.       , 0.3068352, 0.       , 0.3068352,\n",
       "        0.       , 0.3068352, 0.       , 0.       , 0.       , 0.       ,\n",
       "        0.       , 0.3068352, 0.3068352, 0.       , 0.       , 0.       ,\n",
       "        0.       , 0.3068352, 0.2419124, 0.       , 0.       ]])"
      ]
     },
     "execution_count": 19,
     "metadata": {},
     "output_type": "execute_result"
    }
   ],
   "source": [
    "X[0].toarray()"
   ]
  }
 ],
 "metadata": {
  "kernelspec": {
   "display_name": "Python 3 (ipykernel)",
   "language": "python",
   "name": "python3"
  },
  "language_info": {
   "codemirror_mode": {
    "name": "ipython",
    "version": 3
   },
   "file_extension": ".py",
   "mimetype": "text/x-python",
   "name": "python",
   "nbconvert_exporter": "python",
   "pygments_lexer": "ipython3",
   "version": "3.11.7"
  }
 },
 "nbformat": 4,
 "nbformat_minor": 5
}
